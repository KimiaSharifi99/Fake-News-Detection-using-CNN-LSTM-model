{
  "cells": [
    {
      "cell_type": "code",
      "execution_count": null,
      "metadata": {
        "id": "kStOz7Fvrnlb"
      },
      "outputs": [],
      "source": []
    },
    {
      "cell_type": "code",
      "execution_count": null,
      "metadata": {
        "id": "6TdOKRIs_6TQ"
      },
      "outputs": [],
      "source": [
        "# importing required libraries\n",
        "import numpy as np\n",
        "import pandas as pd\n",
        "import matplotlib.pyplot as plt"
      ]
    },
    {
      "cell_type": "code",
      "execution_count": null,
      "metadata": {
        "colab": {
          "base_uri": "https://localhost:8080/"
        },
        "id": "aFNAomy-_7sB",
        "outputId": "e58c8d01-5260-4e1e-b00d-6b197e3762f0"
      },
      "outputs": [
        {
          "name": "stdout",
          "output_type": "stream",
          "text": [
            "Mounted at /content/gdrive\n"
          ]
        }
      ],
      "source": [
        "#google colab drive mount code\n",
        "\n",
        "from google.colab import drive\n",
        "drive.mount('/content/gdrive', force_remount=True)"
      ]
    },
    {
      "cell_type": "code",
      "execution_count": null,
      "metadata": {
        "id": "jRCTJk4cAtCR"
      },
      "outputs": [],
      "source": [
        "# reading data file\n",
        "\n",
        "df = pd.read_csv('/content/gdrive/My Drive/Data/WELFake_Dataset.csv')\n",
        "\n",
        "     "
      ]
    },
    {
      "cell_type": "code",
      "execution_count": null,
      "metadata": {
        "colab": {
          "base_uri": "https://localhost:8080/",
          "height": 206
        },
        "id": "RZ9t0gXAAurN",
        "outputId": "792cec3d-85ae-4559-eb77-dd606087ed38"
      },
      "outputs": [
        {
          "data": {
            "text/html": [
              "\n",
              "  <div id=\"df-a18a636b-71d5-4083-92f0-0685cc54d3d3\">\n",
              "    <div class=\"colab-df-container\">\n",
              "      <div>\n",
              "<style scoped>\n",
              "    .dataframe tbody tr th:only-of-type {\n",
              "        vertical-align: middle;\n",
              "    }\n",
              "\n",
              "    .dataframe tbody tr th {\n",
              "        vertical-align: top;\n",
              "    }\n",
              "\n",
              "    .dataframe thead th {\n",
              "        text-align: right;\n",
              "    }\n",
              "</style>\n",
              "<table border=\"1\" class=\"dataframe\">\n",
              "  <thead>\n",
              "    <tr style=\"text-align: right;\">\n",
              "      <th></th>\n",
              "      <th>Unnamed: 0</th>\n",
              "      <th>title</th>\n",
              "      <th>text</th>\n",
              "      <th>label</th>\n",
              "    </tr>\n",
              "  </thead>\n",
              "  <tbody>\n",
              "    <tr>\n",
              "      <th>0</th>\n",
              "      <td>0</td>\n",
              "      <td>LAW ENFORCEMENT ON HIGH ALERT Following Threat...</td>\n",
              "      <td>No comment is expected from Barack Obama Membe...</td>\n",
              "      <td>1</td>\n",
              "    </tr>\n",
              "    <tr>\n",
              "      <th>1</th>\n",
              "      <td>1</td>\n",
              "      <td>NaN</td>\n",
              "      <td>Did they post their votes for Hillary already?</td>\n",
              "      <td>1</td>\n",
              "    </tr>\n",
              "    <tr>\n",
              "      <th>2</th>\n",
              "      <td>2</td>\n",
              "      <td>UNBELIEVABLE! OBAMA’S ATTORNEY GENERAL SAYS MO...</td>\n",
              "      <td>Now, most of the demonstrators gathered last ...</td>\n",
              "      <td>1</td>\n",
              "    </tr>\n",
              "    <tr>\n",
              "      <th>3</th>\n",
              "      <td>3</td>\n",
              "      <td>Bobby Jindal, raised Hindu, uses story of Chri...</td>\n",
              "      <td>A dozen politically active pastors came here f...</td>\n",
              "      <td>0</td>\n",
              "    </tr>\n",
              "    <tr>\n",
              "      <th>4</th>\n",
              "      <td>4</td>\n",
              "      <td>SATAN 2: Russia unvelis an image of its terrif...</td>\n",
              "      <td>The RS-28 Sarmat missile, dubbed Satan 2, will...</td>\n",
              "      <td>1</td>\n",
              "    </tr>\n",
              "  </tbody>\n",
              "</table>\n",
              "</div>\n",
              "      <button class=\"colab-df-convert\" onclick=\"convertToInteractive('df-a18a636b-71d5-4083-92f0-0685cc54d3d3')\"\n",
              "              title=\"Convert this dataframe to an interactive table.\"\n",
              "              style=\"display:none;\">\n",
              "        \n",
              "  <svg xmlns=\"http://www.w3.org/2000/svg\" height=\"24px\"viewBox=\"0 0 24 24\"\n",
              "       width=\"24px\">\n",
              "    <path d=\"M0 0h24v24H0V0z\" fill=\"none\"/>\n",
              "    <path d=\"M18.56 5.44l.94 2.06.94-2.06 2.06-.94-2.06-.94-.94-2.06-.94 2.06-2.06.94zm-11 1L8.5 8.5l.94-2.06 2.06-.94-2.06-.94L8.5 2.5l-.94 2.06-2.06.94zm10 10l.94 2.06.94-2.06 2.06-.94-2.06-.94-.94-2.06-.94 2.06-2.06.94z\"/><path d=\"M17.41 7.96l-1.37-1.37c-.4-.4-.92-.59-1.43-.59-.52 0-1.04.2-1.43.59L10.3 9.45l-7.72 7.72c-.78.78-.78 2.05 0 2.83L4 21.41c.39.39.9.59 1.41.59.51 0 1.02-.2 1.41-.59l7.78-7.78 2.81-2.81c.8-.78.8-2.07 0-2.86zM5.41 20L4 18.59l7.72-7.72 1.47 1.35L5.41 20z\"/>\n",
              "  </svg>\n",
              "      </button>\n",
              "      \n",
              "  <style>\n",
              "    .colab-df-container {\n",
              "      display:flex;\n",
              "      flex-wrap:wrap;\n",
              "      gap: 12px;\n",
              "    }\n",
              "\n",
              "    .colab-df-convert {\n",
              "      background-color: #E8F0FE;\n",
              "      border: none;\n",
              "      border-radius: 50%;\n",
              "      cursor: pointer;\n",
              "      display: none;\n",
              "      fill: #1967D2;\n",
              "      height: 32px;\n",
              "      padding: 0 0 0 0;\n",
              "      width: 32px;\n",
              "    }\n",
              "\n",
              "    .colab-df-convert:hover {\n",
              "      background-color: #E2EBFA;\n",
              "      box-shadow: 0px 1px 2px rgba(60, 64, 67, 0.3), 0px 1px 3px 1px rgba(60, 64, 67, 0.15);\n",
              "      fill: #174EA6;\n",
              "    }\n",
              "\n",
              "    [theme=dark] .colab-df-convert {\n",
              "      background-color: #3B4455;\n",
              "      fill: #D2E3FC;\n",
              "    }\n",
              "\n",
              "    [theme=dark] .colab-df-convert:hover {\n",
              "      background-color: #434B5C;\n",
              "      box-shadow: 0px 1px 3px 1px rgba(0, 0, 0, 0.15);\n",
              "      filter: drop-shadow(0px 1px 2px rgba(0, 0, 0, 0.3));\n",
              "      fill: #FFFFFF;\n",
              "    }\n",
              "  </style>\n",
              "\n",
              "      <script>\n",
              "        const buttonEl =\n",
              "          document.querySelector('#df-a18a636b-71d5-4083-92f0-0685cc54d3d3 button.colab-df-convert');\n",
              "        buttonEl.style.display =\n",
              "          google.colab.kernel.accessAllowed ? 'block' : 'none';\n",
              "\n",
              "        async function convertToInteractive(key) {\n",
              "          const element = document.querySelector('#df-a18a636b-71d5-4083-92f0-0685cc54d3d3');\n",
              "          const dataTable =\n",
              "            await google.colab.kernel.invokeFunction('convertToInteractive',\n",
              "                                                     [key], {});\n",
              "          if (!dataTable) return;\n",
              "\n",
              "          const docLinkHtml = 'Like what you see? Visit the ' +\n",
              "            '<a target=\"_blank\" href=https://colab.research.google.com/notebooks/data_table.ipynb>data table notebook</a>'\n",
              "            + ' to learn more about interactive tables.';\n",
              "          element.innerHTML = '';\n",
              "          dataTable['output_type'] = 'display_data';\n",
              "          await google.colab.output.renderOutput(dataTable, element);\n",
              "          const docLink = document.createElement('div');\n",
              "          docLink.innerHTML = docLinkHtml;\n",
              "          element.appendChild(docLink);\n",
              "        }\n",
              "      </script>\n",
              "    </div>\n",
              "  </div>\n",
              "  "
            ],
            "text/plain": [
              "   Unnamed: 0                                              title  \\\n",
              "0           0  LAW ENFORCEMENT ON HIGH ALERT Following Threat...   \n",
              "1           1                                                NaN   \n",
              "2           2  UNBELIEVABLE! OBAMA’S ATTORNEY GENERAL SAYS MO...   \n",
              "3           3  Bobby Jindal, raised Hindu, uses story of Chri...   \n",
              "4           4  SATAN 2: Russia unvelis an image of its terrif...   \n",
              "\n",
              "                                                text  label  \n",
              "0  No comment is expected from Barack Obama Membe...      1  \n",
              "1     Did they post their votes for Hillary already?      1  \n",
              "2   Now, most of the demonstrators gathered last ...      1  \n",
              "3  A dozen politically active pastors came here f...      0  \n",
              "4  The RS-28 Sarmat missile, dubbed Satan 2, will...      1  "
            ]
          },
          "execution_count": 4,
          "metadata": {},
          "output_type": "execute_result"
        }
      ],
      "source": [
        "\n",
        "df.head()"
      ]
    },
    {
      "cell_type": "code",
      "execution_count": null,
      "metadata": {
        "colab": {
          "base_uri": "https://localhost:8080/"
        },
        "id": "3MbjXyyyAvaq",
        "outputId": "3ef9c309-38b1-4939-eb61-12594de68189"
      },
      "outputs": [
        {
          "name": "stdout",
          "output_type": "stream",
          "text": [
            "<class 'pandas.core.frame.DataFrame'>\n",
            "RangeIndex: 72134 entries, 0 to 72133\n",
            "Data columns (total 4 columns):\n",
            " #   Column      Non-Null Count  Dtype \n",
            "---  ------      --------------  ----- \n",
            " 0   Unnamed: 0  72134 non-null  int64 \n",
            " 1   title       71576 non-null  object\n",
            " 2   text        72095 non-null  object\n",
            " 3   label       72134 non-null  int64 \n",
            "dtypes: int64(2), object(2)\n",
            "memory usage: 2.2+ MB\n"
          ]
        }
      ],
      "source": [
        "\n",
        "df.info()"
      ]
    },
    {
      "cell_type": "code",
      "execution_count": null,
      "metadata": {
        "id": "Na3r0ZriBB87"
      },
      "outputs": [],
      "source": [
        "\n",
        "df.columns = [\"id\",\"title\",\"text\",\"label\"]"
      ]
    },
    {
      "cell_type": "code",
      "execution_count": null,
      "metadata": {
        "colab": {
          "base_uri": "https://localhost:8080/",
          "height": 206
        },
        "id": "tUj0j9YgBG4I",
        "outputId": "05b9e868-2182-4314-8f04-320dc7d1a39e"
      },
      "outputs": [
        {
          "data": {
            "text/html": [
              "\n",
              "  <div id=\"df-cc427b45-2cf5-43ea-b78e-5a1628720cf8\">\n",
              "    <div class=\"colab-df-container\">\n",
              "      <div>\n",
              "<style scoped>\n",
              "    .dataframe tbody tr th:only-of-type {\n",
              "        vertical-align: middle;\n",
              "    }\n",
              "\n",
              "    .dataframe tbody tr th {\n",
              "        vertical-align: top;\n",
              "    }\n",
              "\n",
              "    .dataframe thead th {\n",
              "        text-align: right;\n",
              "    }\n",
              "</style>\n",
              "<table border=\"1\" class=\"dataframe\">\n",
              "  <thead>\n",
              "    <tr style=\"text-align: right;\">\n",
              "      <th></th>\n",
              "      <th>id</th>\n",
              "      <th>title</th>\n",
              "      <th>text</th>\n",
              "      <th>label</th>\n",
              "    </tr>\n",
              "  </thead>\n",
              "  <tbody>\n",
              "    <tr>\n",
              "      <th>0</th>\n",
              "      <td>0</td>\n",
              "      <td>LAW ENFORCEMENT ON HIGH ALERT Following Threat...</td>\n",
              "      <td>No comment is expected from Barack Obama Membe...</td>\n",
              "      <td>1</td>\n",
              "    </tr>\n",
              "    <tr>\n",
              "      <th>1</th>\n",
              "      <td>1</td>\n",
              "      <td>NaN</td>\n",
              "      <td>Did they post their votes for Hillary already?</td>\n",
              "      <td>1</td>\n",
              "    </tr>\n",
              "    <tr>\n",
              "      <th>2</th>\n",
              "      <td>2</td>\n",
              "      <td>UNBELIEVABLE! OBAMA’S ATTORNEY GENERAL SAYS MO...</td>\n",
              "      <td>Now, most of the demonstrators gathered last ...</td>\n",
              "      <td>1</td>\n",
              "    </tr>\n",
              "    <tr>\n",
              "      <th>3</th>\n",
              "      <td>3</td>\n",
              "      <td>Bobby Jindal, raised Hindu, uses story of Chri...</td>\n",
              "      <td>A dozen politically active pastors came here f...</td>\n",
              "      <td>0</td>\n",
              "    </tr>\n",
              "    <tr>\n",
              "      <th>4</th>\n",
              "      <td>4</td>\n",
              "      <td>SATAN 2: Russia unvelis an image of its terrif...</td>\n",
              "      <td>The RS-28 Sarmat missile, dubbed Satan 2, will...</td>\n",
              "      <td>1</td>\n",
              "    </tr>\n",
              "  </tbody>\n",
              "</table>\n",
              "</div>\n",
              "      <button class=\"colab-df-convert\" onclick=\"convertToInteractive('df-cc427b45-2cf5-43ea-b78e-5a1628720cf8')\"\n",
              "              title=\"Convert this dataframe to an interactive table.\"\n",
              "              style=\"display:none;\">\n",
              "        \n",
              "  <svg xmlns=\"http://www.w3.org/2000/svg\" height=\"24px\"viewBox=\"0 0 24 24\"\n",
              "       width=\"24px\">\n",
              "    <path d=\"M0 0h24v24H0V0z\" fill=\"none\"/>\n",
              "    <path d=\"M18.56 5.44l.94 2.06.94-2.06 2.06-.94-2.06-.94-.94-2.06-.94 2.06-2.06.94zm-11 1L8.5 8.5l.94-2.06 2.06-.94-2.06-.94L8.5 2.5l-.94 2.06-2.06.94zm10 10l.94 2.06.94-2.06 2.06-.94-2.06-.94-.94-2.06-.94 2.06-2.06.94z\"/><path d=\"M17.41 7.96l-1.37-1.37c-.4-.4-.92-.59-1.43-.59-.52 0-1.04.2-1.43.59L10.3 9.45l-7.72 7.72c-.78.78-.78 2.05 0 2.83L4 21.41c.39.39.9.59 1.41.59.51 0 1.02-.2 1.41-.59l7.78-7.78 2.81-2.81c.8-.78.8-2.07 0-2.86zM5.41 20L4 18.59l7.72-7.72 1.47 1.35L5.41 20z\"/>\n",
              "  </svg>\n",
              "      </button>\n",
              "      \n",
              "  <style>\n",
              "    .colab-df-container {\n",
              "      display:flex;\n",
              "      flex-wrap:wrap;\n",
              "      gap: 12px;\n",
              "    }\n",
              "\n",
              "    .colab-df-convert {\n",
              "      background-color: #E8F0FE;\n",
              "      border: none;\n",
              "      border-radius: 50%;\n",
              "      cursor: pointer;\n",
              "      display: none;\n",
              "      fill: #1967D2;\n",
              "      height: 32px;\n",
              "      padding: 0 0 0 0;\n",
              "      width: 32px;\n",
              "    }\n",
              "\n",
              "    .colab-df-convert:hover {\n",
              "      background-color: #E2EBFA;\n",
              "      box-shadow: 0px 1px 2px rgba(60, 64, 67, 0.3), 0px 1px 3px 1px rgba(60, 64, 67, 0.15);\n",
              "      fill: #174EA6;\n",
              "    }\n",
              "\n",
              "    [theme=dark] .colab-df-convert {\n",
              "      background-color: #3B4455;\n",
              "      fill: #D2E3FC;\n",
              "    }\n",
              "\n",
              "    [theme=dark] .colab-df-convert:hover {\n",
              "      background-color: #434B5C;\n",
              "      box-shadow: 0px 1px 3px 1px rgba(0, 0, 0, 0.15);\n",
              "      filter: drop-shadow(0px 1px 2px rgba(0, 0, 0, 0.3));\n",
              "      fill: #FFFFFF;\n",
              "    }\n",
              "  </style>\n",
              "\n",
              "      <script>\n",
              "        const buttonEl =\n",
              "          document.querySelector('#df-cc427b45-2cf5-43ea-b78e-5a1628720cf8 button.colab-df-convert');\n",
              "        buttonEl.style.display =\n",
              "          google.colab.kernel.accessAllowed ? 'block' : 'none';\n",
              "\n",
              "        async function convertToInteractive(key) {\n",
              "          const element = document.querySelector('#df-cc427b45-2cf5-43ea-b78e-5a1628720cf8');\n",
              "          const dataTable =\n",
              "            await google.colab.kernel.invokeFunction('convertToInteractive',\n",
              "                                                     [key], {});\n",
              "          if (!dataTable) return;\n",
              "\n",
              "          const docLinkHtml = 'Like what you see? Visit the ' +\n",
              "            '<a target=\"_blank\" href=https://colab.research.google.com/notebooks/data_table.ipynb>data table notebook</a>'\n",
              "            + ' to learn more about interactive tables.';\n",
              "          element.innerHTML = '';\n",
              "          dataTable['output_type'] = 'display_data';\n",
              "          await google.colab.output.renderOutput(dataTable, element);\n",
              "          const docLink = document.createElement('div');\n",
              "          docLink.innerHTML = docLinkHtml;\n",
              "          element.appendChild(docLink);\n",
              "        }\n",
              "      </script>\n",
              "    </div>\n",
              "  </div>\n",
              "  "
            ],
            "text/plain": [
              "   id                                              title  \\\n",
              "0   0  LAW ENFORCEMENT ON HIGH ALERT Following Threat...   \n",
              "1   1                                                NaN   \n",
              "2   2  UNBELIEVABLE! OBAMA’S ATTORNEY GENERAL SAYS MO...   \n",
              "3   3  Bobby Jindal, raised Hindu, uses story of Chri...   \n",
              "4   4  SATAN 2: Russia unvelis an image of its terrif...   \n",
              "\n",
              "                                                text  label  \n",
              "0  No comment is expected from Barack Obama Membe...      1  \n",
              "1     Did they post their votes for Hillary already?      1  \n",
              "2   Now, most of the demonstrators gathered last ...      1  \n",
              "3  A dozen politically active pastors came here f...      0  \n",
              "4  The RS-28 Sarmat missile, dubbed Satan 2, will...      1  "
            ]
          },
          "execution_count": 7,
          "metadata": {},
          "output_type": "execute_result"
        }
      ],
      "source": [
        "\n",
        "df.head()"
      ]
    },
    {
      "cell_type": "code",
      "execution_count": null,
      "metadata": {
        "colab": {
          "base_uri": "https://localhost:8080/"
        },
        "id": "3rJFMuayBKKM",
        "outputId": "5815df2f-1439-4565-8c0b-6ad348f40fd0"
      },
      "outputs": [
        {
          "name": "stdout",
          "output_type": "stream",
          "text": [
            "<class 'pandas.core.frame.DataFrame'>\n",
            "RangeIndex: 72134 entries, 0 to 72133\n",
            "Data columns (total 4 columns):\n",
            " #   Column  Non-Null Count  Dtype \n",
            "---  ------  --------------  ----- \n",
            " 0   id      72134 non-null  int64 \n",
            " 1   title   71576 non-null  object\n",
            " 2   text    72095 non-null  object\n",
            " 3   label   72134 non-null  int64 \n",
            "dtypes: int64(2), object(2)\n",
            "memory usage: 2.2+ MB\n"
          ]
        }
      ],
      "source": [
        "\n",
        "df.info()"
      ]
    },
    {
      "cell_type": "code",
      "execution_count": null,
      "metadata": {
        "id": "LGAMRgFOBL5Y"
      },
      "outputs": [],
      "source": [
        "# read in our data and preprocess it\n",
        "\n",
        "df.drop(labels=['id','title'], axis='columns', inplace=True)"
      ]
    },
    {
      "cell_type": "code",
      "execution_count": null,
      "metadata": {
        "colab": {
          "base_uri": "https://localhost:8080/"
        },
        "id": "y6Op0X7WBMsO",
        "outputId": "43168e2d-7afa-4de0-ccda-f4ec917c9bec"
      },
      "outputs": [
        {
          "data": {
            "text/plain": [
              "0        No comment is expected from Barack Obama Membe...\n",
              "1           Did they post their votes for Hillary already?\n",
              "2         Now, most of the demonstrators gathered last ...\n",
              "3        A dozen politically active pastors came here f...\n",
              "4        The RS-28 Sarmat missile, dubbed Satan 2, will...\n",
              "                               ...                        \n",
              "72129    WASHINGTON (Reuters) - Hackers believed to be ...\n",
              "72130    You know, because in fantasyland Republicans n...\n",
              "72131    Migrants Refuse To Leave Train At Refugee Camp...\n",
              "72132    MEXICO CITY (Reuters) - Donald Trump’s combati...\n",
              "72133    Goldman Sachs Endorses Hillary Clinton For Pre...\n",
              "Name: text, Length: 72134, dtype: object"
            ]
          },
          "execution_count": 10,
          "metadata": {},
          "output_type": "execute_result"
        }
      ],
      "source": [
        "\n",
        "df['text']"
      ]
    },
    {
      "cell_type": "code",
      "execution_count": null,
      "metadata": {
        "id": "MH2i4iceBOtl"
      },
      "outputs": [],
      "source": [
        "\n",
        "df.dropna(subset = [\"text\"], inplace=True)"
      ]
    },
    {
      "cell_type": "code",
      "execution_count": null,
      "metadata": {
        "colab": {
          "base_uri": "https://localhost:8080/"
        },
        "id": "5YSznQwwYJ_I",
        "outputId": "099ef084-326a-470c-b616-a4b2b10b4254"
      },
      "outputs": [
        {
          "data": {
            "text/plain": [
              "0        No comment is expected from Barack Obama Membe...\n",
              "1           Did they post their votes for Hillary already?\n",
              "2         Now, most of the demonstrators gathered last ...\n",
              "3        A dozen politically active pastors came here f...\n",
              "4        The RS-28 Sarmat missile, dubbed Satan 2, will...\n",
              "                               ...                        \n",
              "72129    WASHINGTON (Reuters) - Hackers believed to be ...\n",
              "72130    You know, because in fantasyland Republicans n...\n",
              "72131    Migrants Refuse To Leave Train At Refugee Camp...\n",
              "72132    MEXICO CITY (Reuters) - Donald Trump’s combati...\n",
              "72133    Goldman Sachs Endorses Hillary Clinton For Pre...\n",
              "Name: text, Length: 72095, dtype: object"
            ]
          },
          "execution_count": 12,
          "metadata": {},
          "output_type": "execute_result"
        }
      ],
      "source": [
        "df['text']"
      ]
    },
    {
      "cell_type": "code",
      "execution_count": null,
      "metadata": {
        "id": "Tlpk_3sFBRzP"
      },
      "outputs": [],
      "source": [
        "# Creating a function for Removing stopwords\n",
        "\n",
        "from gensim.parsing.preprocessing import remove_stopwords\n",
        "def stopword_removal(row):\n",
        "    text = row['text']\n",
        "    text = remove_stopwords(text)\n",
        "    return text"
      ]
    },
    {
      "cell_type": "code",
      "execution_count": null,
      "metadata": {
        "colab": {
          "base_uri": "https://localhost:8080/"
        },
        "id": "1R1WgUVdBTkV",
        "outputId": "7934e87a-7252-49f7-e1c8-e7fdfc723cd5"
      },
      "outputs": [
        {
          "data": {
            "text/plain": [
              "0        No comment expected Barack Obama Members #FYF9...\n",
              "1                          Did post votes Hillary already?\n",
              "2        Now, demonstrators gathered night exercising c...\n",
              "3        A dozen politically active pastors came privat...\n",
              "4        The RS-28 Sarmat missile, dubbed Satan 2, repl...\n",
              "                               ...                        \n",
              "72129    WASHINGTON (Reuters) - Hackers believed workin...\n",
              "72130    You know, fantasyland Republicans questioned c...\n",
              "72131    Migrants Refuse To Leave Train At Refugee Camp...\n",
              "72132    MEXICO CITY (Reuters) - Donald Trump’s combati...\n",
              "72133    Goldman Sachs Endorses Hillary Clinton For Pre...\n",
              "Name: text, Length: 72095, dtype: object"
            ]
          },
          "execution_count": 14,
          "metadata": {},
          "output_type": "execute_result"
        }
      ],
      "source": [
        "#Removing stopwords\n",
        "\n",
        "df['text'] = df.apply(stopword_removal, axis=1)\n",
        "df['text']"
      ]
    },
    {
      "cell_type": "code",
      "execution_count": null,
      "metadata": {
        "colab": {
          "base_uri": "https://localhost:8080/"
        },
        "id": "g8vJXzIPBWwd",
        "outputId": "7ba66419-9b14-4f84-b74f-4c0c342fe671"
      },
      "outputs": [
        {
          "name": "stderr",
          "output_type": "stream",
          "text": [
            "<ipython-input-15-a29f616ab6a0>:3: FutureWarning: The default value of regex will change from True to False in a future version.\n",
            "  df['text'] = df['text'].str.lower().str.replace('[^\\w\\s]',' ').str.replace('\\s\\s+', ' ')\n"
          ]
        }
      ],
      "source": [
        "# Converting text into smaller letters.\n",
        "\n",
        "df['text'] = df['text'].str.lower().str.replace('[^\\w\\s]',' ').str.replace('\\s\\s+', ' ')\n",
        "     "
      ]
    },
    {
      "cell_type": "code",
      "execution_count": null,
      "metadata": {
        "colab": {
          "base_uri": "https://localhost:8080/"
        },
        "id": "PW-JA82oBaDa",
        "outputId": "9df962fc-52ad-46c0-e48a-ae019497f095"
      },
      "outputs": [
        {
          "name": "stdout",
          "output_type": "stream",
          "text": [
            "Found 72095 texts.\n"
          ]
        }
      ],
      "source": [
        "# prepare text samples and their labels\n",
        "\n",
        "texts = df['text']\n",
        "labels = df['label']\n",
        "\n",
        "print('Found %s texts.' %texts.shape[0])"
      ]
    },
    {
      "cell_type": "code",
      "execution_count": null,
      "metadata": {
        "id": "I5Lftcz2Ba3L"
      },
      "outputs": [],
      "source": [
        "#replacing any null values with an empty string (common method provided by pandas)\n",
        "texts = texts.fillna(\"\")"
      ]
    },
    {
      "cell_type": "code",
      "execution_count": null,
      "metadata": {
        "colab": {
          "base_uri": "https://localhost:8080/",
          "height": 430
        },
        "id": "fs-hIyzqBcdU",
        "outputId": "4efa0819-45e0-4ed4-f5bf-09f1e0905a02"
      },
      "outputs": [
        {
          "data": {
            "image/png": "[encoded data removed]",
            "text/plain": [
              "<Figure size 640x480 with 1 Axes>"
            ]
          },
          "metadata": {},
          "output_type": "display_data"
        }
      ],
      "source": [
        "# plot the distribution of article lengths in terms of word counts\n",
        "\n",
        "text_lengths = texts.apply(lambda x: len(x.split(\" \")))\n",
        "plt.hist(text_lengths)\n",
        "plt.show()\n",
        "     "
      ]
    },
    {
      "cell_type": "code",
      "execution_count": null,
      "metadata": {
        "colab": {
          "base_uri": "https://localhost:8080/"
        },
        "id": "QZwmkNPiqj-2",
        "outputId": "2f8bbb83-157c-48e4-a80f-582cc9b8cb27"
      },
      "outputs": [
        {
          "name": "stdout",
          "output_type": "stream",
          "text": [
            "0        no comment expected barack obama members fyf91...\n",
            "1                          did post votes hillary already \n",
            "2        now demonstrators gathered night exercising co...\n",
            "3        a dozen politically active pastors came privat...\n",
            "4        the rs 28 sarmat missile dubbed satan 2 replac...\n",
            "                               ...                        \n",
            "72129    washington reuters hackers believed working ru...\n",
            "72130    you know fantasyland republicans questioned ci...\n",
            "72131    migrants refuse to leave train at refugee camp...\n",
            "72132    mexico city reuters donald trump s combative s...\n",
            "72133    goldman sachs endorses hillary clinton for pre...\n",
            "Name: text, Length: 72095, dtype: object\n"
          ]
        }
      ],
      "source": [
        "print(texts)\n",
        "\n"
      ]
    },
    {
      "cell_type": "code",
      "execution_count": null,
      "metadata": {
        "id": "7X-ub47rBfO-"
      },
      "outputs": [],
      "source": [
        "\n",
        "MAX_SEQUENCE_LENGTH = 750\n",
        "MAX_NUM_WORDS = 1000\n",
        "EMBEDDING_DIM = 64\n",
        "TEST_SPLIT = 0.2"
      ]
    },
    {
      "cell_type": "code",
      "execution_count": null,
      "metadata": {
        "colab": {
          "base_uri": "https://localhost:8080/"
        },
        "id": "jiUAoQw9Bg1S",
        "outputId": "bfe8f0b8-e53a-43a6-8dc3-05dd145911be"
      },
      "outputs": [
        {
          "name": "stdout",
          "output_type": "stream",
          "text": [
            "Looking in indexes: https://pypi.org/simple, https://us-python.pkg.dev/colab-wheels/public/simple/\n",
            "Collecting keras_preprocessing\n",
            "  Downloading Keras_Preprocessing-1.1.2-py2.py3-none-any.whl (42 kB)\n",
            "\u001b[2K     \u001b[90m━━━━━━━━━━━━━━━━━━━━━━━━━━━━━━━━━━━━━━━━\u001b[0m \u001b[32m42.6/42.6 kB\u001b[0m \u001b[31m4.7 MB/s\u001b[0m eta \u001b[36m0:00:00\u001b[0m\n",
            "\u001b[?25hRequirement already satisfied: numpy>=1.9.1 in /usr/local/lib/python3.10/dist-packages (from keras_preprocessing) (1.22.4)\n",
            "Requirement already satisfied: six>=1.9.0 in /usr/local/lib/python3.10/dist-packages (from keras_preprocessing) (1.16.0)\n",
            "Installing collected packages: keras_preprocessing\n",
            "Successfully installed keras_preprocessing-1.1.2\n"
          ]
        }
      ],
      "source": [
        "\n",
        "!pip install keras_preprocessing"
      ]
    },
    {
      "cell_type": "code",
      "execution_count": null,
      "metadata": {
        "colab": {
          "base_uri": "https://localhost:8080/"
        },
        "id": "BJ-9E4ngBjsY",
        "outputId": "ff3afdc8-684b-4029-ba37-2a64c2933b6a"
      },
      "outputs": [
        {
          "name": "stdout",
          "output_type": "stream",
          "text": [
            "Found 242766 unique tokens.\n",
            "Shape of data tensor: (72095, 750)\n",
            "Shape of label tensor: (72095,)\n"
          ]
        }
      ],
      "source": [
        "# vectorize the text samples into a 2D integer tensor \n",
        "from sklearn.feature_extraction.text import TfidfVectorizer\n",
        "from keras.preprocessing.text import Tokenizer\n",
        "from keras_preprocessing.sequence import pad_sequences\n",
        "#from keras.preprocessing.sequence import pad_sequences\n",
        "\n",
        "# tokenizing sentences into words \n",
        "tokenizer = Tokenizer(num_words=MAX_NUM_WORDS)\n",
        "# using fit_on_texts method assigning values to particular words\n",
        "tokenizer.fit_on_texts(texts)\n",
        "\n",
        "# texts_to_sequences method is used to give particular integer values to word\n",
        "sequences = tokenizer.texts_to_sequences(texts)\n",
        "#print(sequences)\n",
        "\n",
        "# calculating word_index\n",
        "word_index = tokenizer.word_index\n",
        "\n",
        "num_words = min(MAX_NUM_WORDS, len(word_index)) + 1\n",
        "#padding data to the same length for each samples\n",
        "data = pad_sequences(sequences, \n",
        "                     maxlen=MAX_SEQUENCE_LENGTH, \n",
        "                     padding='pre', \n",
        "                     truncating='pre')\n",
        "\n",
        "num_words = min(MAX_NUM_WORDS, len(word_index)) + 1\n",
        "print('Found %s unique tokens.' % len(word_index))\n",
        "print('Shape of data tensor:', data.shape)\n",
        "print('Shape of label tensor:', labels.shape)\n",
        "     "
      ]
    },
    {
      "cell_type": "code",
      "execution_count": null,
      "metadata": {
        "id": "jYgfJy4t2XCF"
      },
      "outputs": [],
      "source": [
        "# split the data into a training set and a validation set   \n",
        "\n",
        "from sklearn.model_selection import train_test_split\n",
        "\n",
        "x, x_test, y, y_test = train_test_split(data, \n",
        "                                        labels, \n",
        "                                        test_size=0.2, \n",
        "                                        )\n",
        "\n",
        "x_train, x_val, y_train, y_val = train_test_split(x,\n",
        "                                                  y, \n",
        "                                                  test_size=0.1, \n",
        "                                                  )\n",
        "\n",
        "    \n",
        "\n",
        "    \n"
      ]
    },
    {
      "cell_type": "code",
      "execution_count": null,
      "metadata": {
        "colab": {
          "base_uri": "https://localhost:8080/"
        },
        "id": "27kJdek4Bqr0",
        "outputId": "eae9ee9e-7d0f-4034-c7cf-7eceac970f40"
      },
      "outputs": [
        {
          "data": {
            "text/plain": [
              "(51908, 750)"
            ]
          },
          "execution_count": 24,
          "metadata": {},
          "output_type": "execute_result"
        }
      ],
      "source": [
        "\n",
        "x_train.shape"
      ]
    },
    {
      "cell_type": "code",
      "execution_count": null,
      "metadata": {
        "colab": {
          "base_uri": "https://localhost:8080/"
        },
        "id": "geb89fEeBtI7",
        "outputId": "4cf8adf2-6df7-402e-b903-c31a2b1b5aed"
      },
      "outputs": [
        {
          "data": {
            "text/plain": [
              "(5768, 750)"
            ]
          },
          "execution_count": 25,
          "metadata": {},
          "output_type": "execute_result"
        }
      ],
      "source": [
        "\n",
        "x_val.shape"
      ]
    },
    {
      "cell_type": "code",
      "execution_count": null,
      "metadata": {
        "colab": {
          "base_uri": "https://localhost:8080/"
        },
        "id": "9T8Py1XVBvcH",
        "outputId": "667ee42d-d5e3-4110-aa2c-c57361ffbbea"
      },
      "outputs": [
        {
          "data": {
            "text/plain": [
              "(14419, 750)"
            ]
          },
          "execution_count": 26,
          "metadata": {},
          "output_type": "execute_result"
        }
      ],
      "source": [
        "x_test.shape"
      ]
    },
    {
      "cell_type": "code",
      "execution_count": null,
      "metadata": {
        "colab": {
          "base_uri": "https://localhost:8080/"
        },
        "id": "WX1OjRL9yN37",
        "outputId": "fadc8ac1-4d0d-441c-bef7-ae33522afdc3"
      },
      "outputs": [
        {
          "name": "stdout",
          "output_type": "stream",
          "text": [
            "Model: \"sequential_8\"\n",
            "_________________________________________________________________\n",
            " Layer (type)                Output Shape              Param #   \n",
            "=================================================================\n",
            " embedding_8 (Embedding)     (None, 750, 64)           15537024  \n",
            "                                                                 \n",
            " conv1d_21 (Conv1D)          (None, 746, 64)           20544     \n",
            "                                                                 \n",
            " max_pooling1d (MaxPooling1D  (None, 373, 64)          0         \n",
            " )                                                               \n",
            "                                                                 \n",
            " dropout_14 (Dropout)        (None, 373, 64)           0         \n",
            "                                                                 \n",
            " conv1d_22 (Conv1D)          (None, 371, 32)           6176      \n",
            "                                                                 \n",
            " max_pooling1d_1 (MaxPooling  (None, 370, 32)          0         \n",
            " 1D)                                                             \n",
            "                                                                 \n",
            " conv1d_23 (Conv1D)          (None, 368, 16)           1552      \n",
            "                                                                 \n",
            " lstm_24 (LSTM)              (None, 8)                 800       \n",
            "                                                                 \n",
            " flatten_7 (Flatten)         (None, 8)                 0         \n",
            "                                                                 \n",
            " dense_14 (Dense)            (None, 512)               4608      \n",
            "                                                                 \n",
            " dropout_15 (Dropout)        (None, 512)               0         \n",
            "                                                                 \n",
            " dense_15 (Dense)            (None, 1)                 513       \n",
            "                                                                 \n",
            "=================================================================\n",
            "Total params: 15,571,217\n",
            "Trainable params: 15,571,217\n",
            "Non-trainable params: 0\n",
            "_________________________________________________________________\n"
          ]
        },
        {
          "name": "stderr",
          "output_type": "stream",
          "text": [
            "/usr/local/lib/python3.10/dist-packages/keras/optimizers/legacy/adam.py:117: UserWarning: The `lr` argument is deprecated, use `learning_rate` instead.\n",
            "  super().__init__(name, **kwargs)\n"
          ]
        }
      ],
      "source": [
        "from keras.layers import LSTM\n",
        "from keras.layers.reshaping.flatten import Flatten\n",
        "from keras.layers.pooling.max_pooling1d import MaxPool1D\n",
        "from keras.models import Sequential, Model\n",
        "from keras.layers import Embedding, Conv1D, GlobalMaxPooling1D, Dense, Dropout, multiply, Permute, Lambda\n",
        "from keras import backend as K\n",
        "from keras.optimizers import Adam\n",
        "from keras.regularizers import l2\n",
        "# Defining the model architecture\n",
        "model = Sequential()\n",
        "\n",
        "# Define the regularizer strength\n",
        "#regularizer_strength = 0.0001\n",
        "\n",
        "# part 1: word and sequence processing\n",
        "# defining embedding layer where embedding dimension/ vector size is defined as 64 and input length is set as 700. Where num_words are unique words.\n",
        "model.add(Embedding(input_dim =242766,\n",
        "                    output_dim = EMBEDDING_DIM, \n",
        "                    input_length=MAX_SEQUENCE_LENGTH))\n",
        "\n",
        "# for defining convolutional layer, number of filters are set as 32 and kernal size is defined as 1 X 5.\n",
        "model.add(Conv1D(filters=64, kernel_size=5, activation='relu'))\n",
        "\n",
        "# maxpooling1d layer is used to take maximum values from representation.\n",
        "model.add(MaxPool1D(2))\n",
        "\n",
        "# adding dropout 0.4\n",
        "model.add(Dropout(rate=0.4))\n",
        "\n",
        "# creating second convolutional layer with kernal size 1 X 3, and number of filters will be 16. Where activation function will remain same as ReLU.\n",
        "model.add(Conv1D(filters=32, kernel_size=3, activation='relu'))\n",
        "#, kernel_regularizer=l2(regularizer_strength)\n",
        "# creating maxpooling layer with 2 neurons so that will compare with neighbour neuron. \n",
        "model.add(MaxPool1D(2, strides=1))\n",
        "\n",
        "# adding one more convolutional layer with kernal size 1 X 3, and number of filters will be 8 and setting strides value as 2. Where activation function will be ReLU.\n",
        "model.add(Conv1D(filters=16, kernel_size=3, activation='relu', strides= 1))\n",
        "\n",
        "# Adding LSTM layer with 32 units and dropout of 0.4\n",
        "#,dropout=0.4\n",
        "model.add(LSTM(8,dropout=0.3))\n",
        "\n",
        "# adding flatten layer\n",
        "model.add(Flatten())\n",
        "\n",
        "# adding dense layer with 512 neurons\n",
        "model.add(Dense(units=512, activation='relu'))\n",
        "\n",
        "# adding dropout layer of 0.5\n",
        "model.add(Dropout(rate=0.5))\n",
        "\n",
        "# Adding attention matrix to the model\n",
        "attention_probs = Dense(512, activation='softmax', name='attention_probs')(model.layers[-1].output)\n",
        "attention_mul = multiply([model.layers[-1].output, attention_probs], name='attention_mul')\n",
        "output_attention = Lambda(lambda x: K.sum(x, axis=1), name='output_attention')(attention_mul)\n",
        "\n",
        "# output layer contains 1 value because this is binary classification problem.\n",
        "# Where activation function is 'sigmoid'.\n",
        "model.add(Dense(units=1, activation='sigmoid'))\n",
        "\n",
        "# Compiling the model\n",
        "opt = Adam(lr=0.001)\n",
        "model.compile(optimizer=opt, loss='binary_crossentropy', metrics=['accuracy'])\n",
        "model.summary()"
      ]
    },
    {
      "cell_type": "code",
      "execution_count": null,
      "metadata": {
        "colab": {
          "base_uri": "https://localhost:8080/",
          "height": 1000
        },
        "id": "j2QD2kCJB4sH",
        "outputId": "0913a624-0382-4f99-9eb0-5b924e8274e6"
      },
      "outputs": [
        {
          "data": {
            "image/png": "[encoded data removed]",
            "text/plain": [
              "<IPython.core.display.Image object>"
            ]
          },
          "execution_count": 47,
          "metadata": {},
          "output_type": "execute_result"
        }
      ],
      "source": [
        "# visalizing the layers of model.\n",
        "import tensorflow as tf\n",
        "\n",
        "tf.keras.utils.plot_model(\n",
        "model,\n",
        "to_file=\"model.png\",\n",
        "show_shapes=True,\n",
        "show_dtype=False,\n",
        "show_layer_names=True,\n",
        "rankdir=\"TB\",\n",
        "expand_nested=True,\n",
        "dpi=96,\n",
        "layer_range=None,\n",
        "show_layer_activations=True,\n",
        ")"
      ]
    },
    {
      "cell_type": "code",
      "execution_count": null,
      "metadata": {
        "colab": {
          "background_save": true,
          "base_uri": "https://localhost:8080/"
        },
        "id": "ITDTgX5EB54E",
        "outputId": "6f71e6fd-3a87-4a97-d369-fdeada681840"
      },
      "outputs": [
        {
          "name": "stdout",
          "output_type": "stream",
          "text": [
            "Epoch 1/15\n",
            "433/433 [==============================] - 15s 34ms/step - loss: 0.0307 - accuracy: 0.9895 - val_loss: 0.1277 - val_accuracy: 0.9645\n",
            "Epoch 2/15\n",
            "433/433 [==============================] - 18s 41ms/step - loss: 0.0277 - accuracy: 0.9913 - val_loss: 0.1153 - val_accuracy: 0.9627\n",
            "Epoch 3/15\n",
            "433/433 [==============================] - 14s 33ms/step - loss: 0.0240 - accuracy: 0.9919 - val_loss: 0.1313 - val_accuracy: 0.9655\n",
            "Epoch 4/15\n",
            "433/433 [==============================] - 13s 29ms/step - loss: 0.0229 - accuracy: 0.9927 - val_loss: 0.1306 - val_accuracy: 0.9686\n",
            "Epoch 5/15\n",
            "433/433 [==============================] - 12s 29ms/step - loss: 0.0231 - accuracy: 0.9923 - val_loss: 0.1313 - val_accuracy: 0.9667\n",
            "Epoch 6/15\n",
            "433/433 [==============================] - 13s 29ms/step - loss: 0.0215 - accuracy: 0.9928 - val_loss: 0.1234 - val_accuracy: 0.9665\n",
            "Epoch 7/15\n",
            "433/433 [==============================] - 13s 30ms/step - loss: 0.0197 - accuracy: 0.9935 - val_loss: 0.1202 - val_accuracy: 0.9672\n",
            "Epoch 8/15\n",
            "433/433 [==============================] - 13s 30ms/step - loss: 0.0183 - accuracy: 0.9937 - val_loss: 0.1249 - val_accuracy: 0.9671\n",
            "Epoch 9/15\n",
            "433/433 [==============================] - 13s 30ms/step - loss: 0.0158 - accuracy: 0.9945 - val_loss: 0.1691 - val_accuracy: 0.9641\n",
            "Epoch 10/15\n",
            "433/433 [==============================] - 13s 31ms/step - loss: 0.0162 - accuracy: 0.9945 - val_loss: 0.1400 - val_accuracy: 0.9684\n",
            "Epoch 11/15\n",
            "433/433 [==============================] - 13s 29ms/step - loss: 0.0203 - accuracy: 0.9936 - val_loss: 0.1507 - val_accuracy: 0.9662\n",
            "Epoch 12/15\n",
            "433/433 [==============================] - 13s 29ms/step - loss: 0.0142 - accuracy: 0.9954 - val_loss: 0.1463 - val_accuracy: 0.9643\n",
            "Epoch 13/15\n",
            "433/433 [==============================] - 13s 29ms/step - loss: 0.0162 - accuracy: 0.9946 - val_loss: 0.1344 - val_accuracy: 0.9684\n",
            "Epoch 14/15\n",
            "433/433 [==============================] - 13s 30ms/step - loss: 0.0153 - accuracy: 0.9953 - val_loss: 0.1327 - val_accuracy: 0.9676\n",
            "Epoch 15/15\n",
            "433/433 [==============================] - 13s 30ms/step - loss: 0.0142 - accuracy: 0.9956 - val_loss: 0.1303 - val_accuracy: 0.9698\n",
            "total training time: 202.06611919403076\n"
          ]
        }
      ],
      "source": [
        "# train the model with batch size of 128 and 15 epochs.\n",
        "import time as t\n",
        "start = t.time()\n",
        "history = model.fit(x_train, \n",
        "                    y_train,\n",
        "                    batch_size=120,\n",
        "                    epochs=15,\n",
        "                    validation_data=(x_val, y_val))\n",
        "\n",
        "print(\"total training time:\",t.time()-start)\n",
        "     "
      ]
    },
    {
      "cell_type": "code",
      "execution_count": null,
      "metadata": {
        "id": "emR782tiB8NH"
      },
      "outputs": [],
      "source": [
        "\n",
        "!pip install keras_flops"
      ]
    },
    {
      "cell_type": "code",
      "execution_count": null,
      "metadata": {
        "id": "TiR0Pq79B-dL"
      },
      "outputs": [],
      "source": [
        "from tensorflow.python.framework.convert_to_constants import convert_variables_to_constants_v2_as_graph\n",
        "    "
      ]
    },
    {
      "cell_type": "code",
      "execution_count": null,
      "metadata": {
        "id": "8ClEvX8DCAu0"
      },
      "outputs": [],
      "source": [
        "def get_flops(model, batch_size=None):\n",
        "    if batch_size is None:\n",
        "        batch_size = 1\n",
        "\n",
        "    real_model = tf.function(model).get_concrete_function(tf.TensorSpec([batch_size] + model.inputs[0].shape[1:], model.inputs[0].dtype))\n",
        "    frozen_func, graph_def = convert_variables_to_constants_v2_as_graph(real_model)\n",
        "\n",
        "    run_meta = tf.compat.v1.RunMetadata()\n",
        "    opts = tf.compat.v1.profiler.ProfileOptionBuilder.float_operation()\n",
        "    flops = tf.compat.v1.profiler.profile(graph=frozen_func.graph,\n",
        "                                            run_meta=run_meta, cmd='op', options=opts)\n",
        "    return flops.total_float_ops"
      ]
    },
    {
      "cell_type": "code",
      "execution_count": null,
      "metadata": {
        "id": "0cnRVttDCCzw"
      },
      "outputs": [],
      "source": [
        "# calculating flops\n",
        "flops = get_flops(model, batch_size = 128)\n",
        "print(flops)\n",
        "print(f\"FLOPS: {flops / 10 ** 9:.03} G \")\n",
        "     "
      ]
    },
    {
      "cell_type": "code",
      "execution_count": null,
      "metadata": {
        "id": "7KbUh5WHCFg1"
      },
      "outputs": [],
      "source": [
        "# Plot training & validation accuracy values\n",
        "\n",
        "plt.plot(history.history['val_loss'])\n",
        "plt.plot(history.history['loss'])\n",
        "plt.title('Model Loss ')\n",
        "plt.ylabel('Loss')\n",
        "plt.xlabel('Epochs')\n",
        "plt.legend(['Validation loss', 'Training loss'], loc='upper left')\n",
        "plt.show()"
      ]
    },
    {
      "cell_type": "code",
      "execution_count": null,
      "metadata": {
        "id": "PSe4FmGZCIEE"
      },
      "outputs": [],
      "source": [
        "# Plot training & validation accuracy values\n",
        "\n",
        "plt.plot(history.history['accuracy'])\n",
        "plt.plot(history.history['val_accuracy'])\n",
        "plt.title('Model accuracy')\n",
        "plt.ylabel('Accuracy')\n",
        "plt.xlabel('Epoch')\n",
        "plt.legend(['Train', 'Validation'], loc='upper left')\n",
        "plt.show()"
      ]
    },
    {
      "cell_type": "code",
      "execution_count": null,
      "metadata": {
        "id": "KdA2LyHtCJri"
      },
      "outputs": [],
      "source": [
        "# Plot training & validation accuracy values\n",
        "\n",
        "plt.plot(history.history['loss'])\n",
        "plt.plot(history.history['val_loss'])\n",
        "plt.plot(history.history['accuracy'])\n",
        "plt.plot(history.history['val_accuracy'])\n",
        "\n",
        "plt.title('Model accuracy')\n",
        "plt.ylabel('Accuracy')\n",
        "plt.xlabel('Epoch')\n",
        "plt.legend(['Training loss', 'Validation loss','Training Accuracy','Validation Accuracy'], loc='upper left')\n",
        "plt.show()"
      ]
    },
    {
      "cell_type": "code",
      "execution_count": null,
      "metadata": {
        "id": "-3o8qQhSCM6s"
      },
      "outputs": [],
      "source": [
        "# define a function that allows us to evaluate models\n",
        "\n",
        "from sklearn.metrics import accuracy_score,roc_auc_score,precision_score,recall_score,classification_report,roc_curve\n",
        "\n",
        "\n",
        "\n",
        "def evaluate_model(predict_fun, X_train, y_train, X_test, y_test):\n",
        "    '''\n",
        "    evaluate the model, both training and testing accuraries are reported\n",
        "    '''\n",
        "    # training acc\n",
        "    y_predict_train = predict_fun(X_train)\n",
        "    train_acc = accuracy_score(y_train,y_predict_train)\n",
        "    \n",
        "    # testing acc\n",
        "    y_predict_test = predict_fun(X_test)\n",
        "    test_acc = accuracy_score(y_test,y_predict_test)\n",
        "    \n",
        "\n",
        "    # accuracy = accuracy_score(y_test,y_pred_tex)\n",
        "    roc_auc =roc_auc_score(y_test, y_predict_test)\n",
        "    precision = precision_score(y_pred=y_predict_test, y_true=y_test,zero_division=1)\n",
        "    recall = recall_score(y_pred=y_predict_test, y_true=y_test,zero_division=1)\n",
        "    \n",
        "    cr = classification_report(y_test, y_predict_test,zero_division=1)\n",
        "\n",
        "\n",
        "    fpr, tpr, threshold = roc_curve(y_test, y_predict_test)\n",
        "    plt.plot([0,1], [0,1], 'k--')\n",
        "    plt.plot(fpr, tpr, label= 'CNN-LSTM')\n",
        "    plt.xlabel('False Positive Rate',fontsize=12)\n",
        "    plt.ylabel('True Positive Rate',fontsize=12)\n",
        "    plt.title('%s ROC Curve'% 'CNN-LSTM',fontsize=20)\n",
        "    plt.legend(fontsize=12)\n",
        "    plt.show()\n",
        "\n",
        "    roc_auc_sc = roc_auc_score(y_test,y_predict_test)\n",
        "\n",
        "    return train_acc, test_acc,cr,roc_auc_sc"
      ]
    },
    {
      "cell_type": "code",
      "execution_count": null,
      "metadata": {
        "id": "Qg-1rhdyCXaJ"
      },
      "outputs": [],
      "source": [
        "# evaluate model\n",
        "import time as t\n",
        "start = t.time()\n",
        "train_acc, test_acc,cr,roc_auc_sc = evaluate_model(lambda x: np.rint(model.predict(x)),\n",
        "                                     x_train, \n",
        "                                     y_train, \n",
        "                                     x_test, \n",
        "                                     y_test)\n",
        "print(\"Training Accuracy: {:.2f}%\".format(train_acc*100))\n",
        "print(\"Testing Accuracy: {:.2f}%\".format(test_acc*100))\n",
        "print(\"Classification Report:\\n\",cr)\n",
        "print(\"AUC score\",roc_auc_sc)\n",
        "print(\"Total time required for testing\",t.time()-start)"
      ]
    },
    {
      "cell_type": "code",
      "execution_count": null,
      "metadata": {
        "id": "TZd4Q7MOCbU2"
      },
      "outputs": [],
      "source": [
        "# saving the model.\n",
        "from tensorflow import keras\n",
        "model.save('/content/gdrive/MyDrive/FINAL YR PROJECT/Fake News/Model/Data/attn cnn welfake')\n",
        "     "
      ]
    },
    {
      "cell_type": "code",
      "execution_count": null,
      "metadata": {
        "id": "hkc3jDK4CdO4"
      },
      "outputs": [],
      "source": [
        "# loading weights of cyberbullying dataset to perform weights transferred on fake news detection for experimental study. \n",
        "from tensorflow import keras\n",
        "loaded_model = keras.models.load_model('/content/gdrive/MyDrive/FINAL YR PROJECT/Fake News/Model/Data/cyberbullying cnn 1')\n",
        "     "
      ]
    },
    {
      "cell_type": "code",
      "execution_count": null,
      "metadata": {
        "id": "B3cY-YZ4Ce01"
      },
      "outputs": [],
      "source": [
        "\n",
        "loaded_model.summary()"
      ]
    },
    {
      "cell_type": "code",
      "execution_count": null,
      "metadata": {
        "id": "iC-cE9CmCiZV"
      },
      "outputs": [],
      "source": [
        "from keras.layers import Activation, Dense\n",
        "model_new = Sequential()\n",
        "# going through until last layer (ommitting last layer as this problem belongs to binary classification)\n",
        "for layer in loaded_model.layers[:-1]: \n",
        "    model_new.add(layer)\n",
        "\n",
        "# adding final layer with 1 neuron as this is binary classification problem and sigmoid activation function\n",
        "model_new.add(Dense(1,activation = 'sigmoid'))\n",
        "\n",
        "\n",
        "# compiling model\n",
        "model_new.summary()\n",
        "model_new.compile(optimizer='adam', loss='binary_crossentropy',metrics= ['accuracy'])\n",
        "     "
      ]
    },
    {
      "cell_type": "code",
      "execution_count": null,
      "metadata": {
        "id": "dHf6tx3lClFV"
      },
      "outputs": [],
      "source": [
        "# train the model\n",
        "import time as t\n",
        "start = t.time()\n",
        "\n",
        "# fitting data to model where batch size is defined as 128 and epochs set as 15. Also validating model with 10% validation values of dataset.\n",
        "history = model_new.fit(x_train, \n",
        "                    y_train,\n",
        "                    batch_size=128,\n",
        "                    epochs=15,\n",
        "                    validation_data=(x_val, y_val))\n",
        "print(\"total time in training\",t.time()-start)"
      ]
    },
    {
      "cell_type": "code",
      "execution_count": null,
      "metadata": {
        "id": "qelrJwZyCmcI"
      },
      "outputs": [],
      "source": [
        "# evaluate model\n",
        "import time as t\n",
        "start = t.time()\n",
        "train_acc, test_acc,cr,roc_auc_sc = evaluate_model(lambda x: np.rint(model_new.predict(x)),\n",
        "                                     x_train, \n",
        "                                     y_train, \n",
        "                                     x_test, \n",
        "                                     y_test)\n",
        "print(\"Training Accuracy: {:.2f}%\".format(train_acc*100))\n",
        "print(\"Testing Accuracy: {:.2f}%\".format(test_acc*100))\n",
        "print(\"Classification Report:\\n\",cr)\n",
        "print(\"AUC score\",roc_auc_sc)\n",
        "print(\"Total time required for testing\",t.time()-start)\n",
        "     "
      ]
    },
    {
      "cell_type": "code",
      "execution_count": null,
      "metadata": {
        "id": "j5DTbDCECxLp"
      },
      "outputs": [],
      "source": [
        "\n",
        "# evaluating model after swapping weights from cyberbullying to fake news.\n",
        "model_new.evaluate(x_test,y_test)"
      ]
    }
  ],
  "metadata": {
    "accelerator": "GPU",
    "colab": {
      "provenance": []
    },
    "kernelspec": {
      "display_name": "Python 3",
      "name": "python3"
    },
    "language_info": {
      "name": "python"
    }
  },
  "nbformat": 4,
  "nbformat_minor": 0
}